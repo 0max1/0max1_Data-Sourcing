{
 "cells": [
  {
   "cell_type": "code",
   "execution_count": 1,
   "id": "232fecad",
   "metadata": {},
   "outputs": [
    {
     "name": "stdout",
     "output_type": "stream",
     "text": [
      "Requirement already satisfied: web3 in /Users/xie/opt/anaconda3/lib/python3.8/site-packages (6.11.1)\n",
      "Requirement already satisfied: websockets>=10.0.0 in /Users/xie/opt/anaconda3/lib/python3.8/site-packages (from web3) (12.0)\n",
      "Requirement already satisfied: eth-account>=0.8.0 in /Users/xie/opt/anaconda3/lib/python3.8/site-packages (from web3) (0.9.0)\n",
      "Requirement already satisfied: protobuf>=4.21.6 in /Users/xie/opt/anaconda3/lib/python3.8/site-packages (from web3) (4.24.4)\n",
      "Requirement already satisfied: typing-extensions>=4.0.1 in /Users/xie/opt/anaconda3/lib/python3.8/site-packages (from web3) (4.8.0)\n",
      "Requirement already satisfied: jsonschema>=4.0.0 in /Users/xie/opt/anaconda3/lib/python3.8/site-packages (from web3) (4.19.1)\n",
      "Requirement already satisfied: eth-utils>=2.1.0 in /Users/xie/opt/anaconda3/lib/python3.8/site-packages (from web3) (2.3.0)\n",
      "Requirement already satisfied: lru-dict>=1.1.6 in /Users/xie/opt/anaconda3/lib/python3.8/site-packages (from web3) (1.2.0)\n",
      "Requirement already satisfied: eth-typing>=3.0.0 in /Users/xie/opt/anaconda3/lib/python3.8/site-packages (from web3) (3.5.1)\n",
      "Requirement already satisfied: eth-hash[pycryptodome]>=0.5.1 in /Users/xie/opt/anaconda3/lib/python3.8/site-packages (from web3) (0.5.2)\n",
      "Requirement already satisfied: pyunormalize>=15.0.0 in /Users/xie/opt/anaconda3/lib/python3.8/site-packages (from web3) (15.0.0)\n",
      "Requirement already satisfied: aiohttp>=3.7.4.post0 in /Users/xie/opt/anaconda3/lib/python3.8/site-packages (from web3) (3.7.4.post0)\n",
      "Requirement already satisfied: hexbytes<0.4.0,>=0.1.0 in /Users/xie/opt/anaconda3/lib/python3.8/site-packages (from web3) (0.3.1)\n",
      "Requirement already satisfied: eth-abi>=4.0.0 in /Users/xie/opt/anaconda3/lib/python3.8/site-packages (from web3) (4.2.1)\n",
      "Requirement already satisfied: requests>=2.16.0 in /Users/xie/opt/anaconda3/lib/python3.8/site-packages (from web3) (2.24.0)\n",
      "Requirement already satisfied: rlp>=1.0.0 in /Users/xie/opt/anaconda3/lib/python3.8/site-packages (from eth-account>=0.8.0->web3) (3.0.0)\n",
      "Requirement already satisfied: eth-keys>=0.4.0 in /Users/xie/opt/anaconda3/lib/python3.8/site-packages (from eth-account>=0.8.0->web3) (0.4.0)\n",
      "Requirement already satisfied: eth-keyfile>=0.6.0 in /Users/xie/opt/anaconda3/lib/python3.8/site-packages (from eth-account>=0.8.0->web3) (0.6.1)\n",
      "Requirement already satisfied: eth-rlp>=0.3.0 in /Users/xie/opt/anaconda3/lib/python3.8/site-packages (from eth-account>=0.8.0->web3) (0.3.0)\n",
      "Requirement already satisfied: bitarray>=2.4.0 in /Users/xie/opt/anaconda3/lib/python3.8/site-packages (from eth-account>=0.8.0->web3) (2.8.2)\n",
      "Requirement already satisfied: attrs>=22.2.0 in /Users/xie/opt/anaconda3/lib/python3.8/site-packages (from jsonschema>=4.0.0->web3) (23.1.0)\n",
      "Requirement already satisfied: importlib-resources>=1.4.0; python_version < \"3.9\" in /Users/xie/opt/anaconda3/lib/python3.8/site-packages (from jsonschema>=4.0.0->web3) (6.1.0)\n",
      "Requirement already satisfied: pkgutil-resolve-name>=1.3.10; python_version < \"3.9\" in /Users/xie/opt/anaconda3/lib/python3.8/site-packages (from jsonschema>=4.0.0->web3) (1.3.10)\n",
      "Requirement already satisfied: rpds-py>=0.7.1 in /Users/xie/opt/anaconda3/lib/python3.8/site-packages (from jsonschema>=4.0.0->web3) (0.10.6)\n",
      "Requirement already satisfied: referencing>=0.28.4 in /Users/xie/opt/anaconda3/lib/python3.8/site-packages (from jsonschema>=4.0.0->web3) (0.30.2)\n",
      "Requirement already satisfied: jsonschema-specifications>=2023.03.6 in /Users/xie/opt/anaconda3/lib/python3.8/site-packages (from jsonschema>=4.0.0->web3) (2023.7.1)\n",
      "Requirement already satisfied: cytoolz>=0.10.1; implementation_name == \"cpython\" in /Users/xie/opt/anaconda3/lib/python3.8/site-packages (from eth-utils>=2.1.0->web3) (0.11.0)\n",
      "Requirement already satisfied: pycryptodome<4,>=3.6.6; extra == \"pycryptodome\" in /Users/xie/opt/anaconda3/lib/python3.8/site-packages (from eth-hash[pycryptodome]>=0.5.1->web3) (3.19.0)\n",
      "Requirement already satisfied: yarl<2.0,>=1.0 in /Users/xie/opt/anaconda3/lib/python3.8/site-packages (from aiohttp>=3.7.4.post0->web3) (1.6.3)\n",
      "Requirement already satisfied: chardet<5.0,>=2.0 in /Users/xie/opt/anaconda3/lib/python3.8/site-packages (from aiohttp>=3.7.4.post0->web3) (3.0.4)\n",
      "Requirement already satisfied: async-timeout<4.0,>=3.0 in /Users/xie/opt/anaconda3/lib/python3.8/site-packages (from aiohttp>=3.7.4.post0->web3) (3.0.1)\n",
      "Requirement already satisfied: multidict<7.0,>=4.5 in /Users/xie/opt/anaconda3/lib/python3.8/site-packages (from aiohttp>=3.7.4.post0->web3) (5.1.0)\n",
      "Requirement already satisfied: parsimonious<0.10.0,>=0.9.0 in /Users/xie/opt/anaconda3/lib/python3.8/site-packages (from eth-abi>=4.0.0->web3) (0.9.0)\n",
      "Requirement already satisfied: urllib3!=1.25.0,!=1.25.1,<1.26,>=1.21.1 in /Users/xie/opt/anaconda3/lib/python3.8/site-packages (from requests>=2.16.0->web3) (1.25.11)\n",
      "Requirement already satisfied: idna<3,>=2.5 in /Users/xie/opt/anaconda3/lib/python3.8/site-packages (from requests>=2.16.0->web3) (2.10)\n",
      "Requirement already satisfied: certifi>=2017.4.17 in /Users/xie/opt/anaconda3/lib/python3.8/site-packages (from requests>=2.16.0->web3) (2020.6.20)\n",
      "Requirement already satisfied: zipp>=3.1.0; python_version < \"3.10\" in /Users/xie/opt/anaconda3/lib/python3.8/site-packages (from importlib-resources>=1.4.0; python_version < \"3.9\"->jsonschema>=4.0.0->web3) (3.4.0)\n",
      "Requirement already satisfied: toolz>=0.8.0 in /Users/xie/opt/anaconda3/lib/python3.8/site-packages (from cytoolz>=0.10.1; implementation_name == \"cpython\"->eth-utils>=2.1.0->web3) (0.11.1)\n",
      "Requirement already satisfied: regex>=2022.3.15 in /Users/xie/opt/anaconda3/lib/python3.8/site-packages (from parsimonious<0.10.0,>=0.9.0->eth-abi>=4.0.0->web3) (2023.10.3)\n"
     ]
    }
   ],
   "source": [
    "!pip install web3"
   ]
  },
  {
   "cell_type": "code",
   "execution_count": 2,
   "id": "636e515f",
   "metadata": {},
   "outputs": [],
   "source": [
    "import time\n",
    "import json\n",
    "import requests\n",
    "import pandas as pd\n",
    "from tqdm import tqdm\n",
    "from web3 import Web3\n",
    "from web3.exceptions import ABIFunctionNotFound"
   ]
  },
  {
   "cell_type": "code",
   "execution_count": 3,
   "id": "4de013b4",
   "metadata": {},
   "outputs": [],
   "source": [
    "BSC_API_KEY = \"V1A3UZAFFKSNQUHCWA6MYDZ31364JDBGSJ\"\n",
    "BSC_URL = 'https://api.bscscan.com/api'\n",
    "\n",
    "web3ProviderURL = \"https://rpc.ankr.com/bsc/b1bdd2819d3da7be4760d270af7ef985a74725cbe337c348bca633d096806c5a\"\n",
    "w3 = Web3(Web3.HTTPProvider(web3ProviderURL))\n",
    "\n",
    "getAccountBalance_url = \"https://rpc.ankr.com/multichain/79258ce7f7ee046decc3b5292a24eb4bf7c910d7e39b691384c7ce0cfb839a01/?ankr_getAccountBalance=\""
   ]
  },
  {
   "cell_type": "code",
   "execution_count": 4,
   "id": "5531ca76",
   "metadata": {},
   "outputs": [],
   "source": [
    "factories = {\n",
    "    \"biswap\": {\n",
    "        \"address\" : [\"0x858e3312ed3a876947ea49d572a7c42de08af7ee\"],\n",
    "        \"pool\" : []\n",
    "        }\n",
    "}"
   ]
  },
  {
   "cell_type": "code",
   "execution_count": 5,
   "id": "2dab796b",
   "metadata": {},
   "outputs": [],
   "source": [
    "def get_abi(address):\n",
    "    params = {\n",
    "        \"module\": \"contract\",\n",
    "        \"action\": \"getabi\",\n",
    "        \"address\": address,\n",
    "        \"apikey\": BSC_API_KEY\n",
    "    }\n",
    "    response = requests.post(BSC_URL, params=params)\n",
    "    time.sleep(0.2)\n",
    "    data = json.loads(response.text)\n",
    "    result = data['result']\n",
    "    return result"
   ]
  },
  {
   "cell_type": "code",
   "execution_count": 6,
   "id": "e248ea94",
   "metadata": {},
   "outputs": [],
   "source": [
    "def get_contract(address):\n",
    "    abi = get_abi(address)\n",
    "    checksum_address = Web3.to_checksum_address(address)\n",
    "    contract = w3.eth.contract(address=checksum_address, abi=abi)\n",
    "    return contract"
   ]
  },
  {
   "cell_type": "code",
   "execution_count": 7,
   "id": "f1a2bdc5",
   "metadata": {},
   "outputs": [],
   "source": [
    "def get_fee_from_fee(contract, name):\n",
    "    deno_dict = {\n",
    "        \"pancakeswap_v3\": 10000*100,\n",
    "        \"uniswap_v3\": 10000*100,\n",
    "        \"vyper_contract\": 10**10,\n",
    "    }\n",
    "    if name in deno_dict:\n",
    "        fee = float(contract.functions.fee().call())\n",
    "        fee = fee / deno_dict[name]\n",
    "        return fee\n",
    "    elif name == \"fraxswap\":\n",
    "        fee = 10000 - float(contract.functions.fee().call())\n",
    "        fee = fee / 10000\n",
    "        return fee\n",
    "    return None\n",
    "\n",
    "\n",
    "# Try get fee from swapFee function in abi (Biswap, Nomiswap, Global LPs, Fins)\n",
    "def get_fee_from_swapFee(contract, name):\n",
    "    deno_dict = {\n",
    "        \"biswap\": 1000,\n",
    "        \"nomiswap\": 1000,\n",
    "        \"nomiswapStable\": 100000,\n",
    "        \"global\": 100000,\n",
    "        \"fins\": 10000,\n",
    "        \"plearn\": 1000\n",
    "    }\n",
    "\n",
    "    if name in deno_dict:\n",
    "        swap_fee = float(contract.functions.swapFee().call())\n",
    "        fee = swap_fee / deno_dict[name]\n",
    "        return fee\n",
    "    return None\n",
    "\n",
    "\n",
    "def get_fee_for_thena(contract, name):\n",
    "    try:\n",
    "        isStable = bool(contract.functions.stable().call())\n",
    "        if isStable:\n",
    "            fee = 4 / (100*100)\n",
    "        else:\n",
    "            fee = 18 / (100*100)\n",
    "        return fee\n",
    "    except Exception as e:\n",
    "        return None\n",
    "\n",
    "\n",
    "def get_fee(contract, name):\n",
    "    fix_fee_dict = {\n",
    "        \"apeswap\" : 2/1000,\n",
    "        \"pancake\": 25/10000,\n",
    "        \"uniswap_v2\": 3/1000,\n",
    "        \"sushiswap\" : 3/1000,\n",
    "        \"babydoge\": 100/1000,\n",
    "    }\n",
    "\n",
    "    fee_fun = [\n",
    "        get_fee_from_fee,\n",
    "        get_fee_from_swapFee,\n",
    "        get_fee_for_thena\n",
    "    ]\n",
    "\n",
    "    if name in fix_fee_dict:\n",
    "        return fix_fee_dict[name]\n",
    "\n",
    "    for fun in fee_fun:\n",
    "        fee = fun(contract, name)\n",
    "        if fee:\n",
    "            return fee\n",
    "    return fee"
   ]
  },
  {
   "cell_type": "code",
   "execution_count": 8,
   "id": "56313548",
   "metadata": {},
   "outputs": [],
   "source": [
    "def get_tokens(contract):\n",
    "    try:\n",
    "        token0 = contract.functions.token0().call().lower()\n",
    "        token1 = contract.functions.token1().call().lower()\n",
    "        return token0, token1\n",
    "    except Exception:\n",
    "        return None, None"
   ]
  },
  {
   "cell_type": "code",
   "execution_count": 9,
   "id": "402f6b59",
   "metadata": {},
   "outputs": [],
   "source": [
    "def get_pool_from_allPairs(factory, start, end):\n",
    "    rows = []\n",
    "    name = factory\n",
    "    for factory_address in factories[factory][\"address\"]:\n",
    "        factory_contract = get_contract(factory_address)\n",
    "        try:\n",
    "            allPairsLength = factory_contract.functions.allPairsLength().call()\n",
    "            if end > allPairsLength:\n",
    "                end = allPairsLength\n",
    "            for i in tqdm(range(start, end)):\n",
    "                try:\n",
    "                    pool_address = factory_contract.functions.allPairs(i).call().lower()\n",
    "                    contract = get_contract(pool_address)\n",
    "                    fee = get_fee(contract, name)\n",
    "                    token0, token1 = get_tokens(contract)\n",
    "                    row = {\n",
    "                        \"name\" : name,\n",
    "                        \"factory\" : factory_address,\n",
    "                        \"fee\" : fee,\n",
    "                        \"contract\" : pool_address,\n",
    "                        \"token0\" : token0,\n",
    "                        \"token1\" : token1,\n",
    "                    }\n",
    "                    rows.append(row)\n",
    "                    time.sleep(0.2)\n",
    "                except ValueError:\n",
    "                    continue\n",
    "        except ABIFunctionNotFound:\n",
    "            continue\n",
    "    pool = pd.DataFrame(rows)\n",
    "    pool = pool.drop_duplicates(ignore_index = True)\n",
    "    return pool"
   ]
  },
  {
   "cell_type": "code",
   "execution_count": 10,
   "id": "f0e67774",
   "metadata": {},
   "outputs": [],
   "source": [
    "def get_tvl(pool):\n",
    "    token_type = ['NATIVE']\n",
    "    rows = []\n",
    "\n",
    "    for i in tqdm(range(0, len(pool))):\n",
    "        payload = {\n",
    "            \"jsonrpc\": \"2.0\",\n",
    "            \"method\": \"ankr_getAccountBalance\",\n",
    "            \"params\": {\n",
    "                \"blockchain\": [\"bsc\"],\n",
    "                \"walletAddress\": pool.contract[i],\n",
    "                \"nativeFirst\": True,\n",
    "                \"onlyWhitelisted\": True,\n",
    "                \"pageSize\": 2\n",
    "            },\n",
    "            \"id\": 1\n",
    "        }\n",
    "        headers = {\n",
    "            \"accept\": \"application/json\",\n",
    "            \"content-type\": \"application/json\"\n",
    "        }\n",
    "\n",
    "        response = requests.post(getAccountBalance_url, json=payload, headers=headers)\n",
    "        time.sleep(1)\n",
    "        if response.status_code == 200:\n",
    "            try:\n",
    "                data = json.loads(response.text)\n",
    "                tvl = data['result']['totalBalanceUsd']\n",
    "            except KeyError:\n",
    "                tvl = None\n",
    "            row = {\n",
    "                \"name\" : pool.name[i],\n",
    "                \"factory\" : pool.factory[i],\n",
    "                \"tvl\" : tvl,\n",
    "                \"fee\" : pool.fee[i],\n",
    "                \"contract\" : pool.contract[i],\n",
    "                \"token0\" : pool.token0[i],\n",
    "                \"token1\" : pool.token1[i],\n",
    "            }\n",
    "\n",
    "            rows.append(row)\n",
    "    pool = pd.DataFrame(rows)\n",
    "    pool = pool.dropna(axis=0).reset_index(drop=True)\n",
    "    return pool"
   ]
  },
  {
   "cell_type": "code",
   "execution_count": null,
   "id": "93ca54e9",
   "metadata": {},
   "outputs": [
    {
     "name": "stderr",
     "output_type": "stream",
     "text": [
      " 97%|██████████████████████████████████████▋ | 968/1000 [19:48<00:39,  1.23s/it]"
     ]
    }
   ],
   "source": [
    "for count in range(0, 10000):\n",
    "    start = count * 1000\n",
    "    end = start + 1000\n",
    "    pool = get_pool_from_allPairs(\"biswap\", start, end)\n",
    "    if len(pool) <= 0:\n",
    "        break\n",
    "    pool = get_tvl(pool)\n",
    "    file_name = f\"part{count}.csv\"\n",
    "    pool.to_csv(file_name, index=False)"
   ]
  },
  {
   "cell_type": "code",
   "execution_count": null,
   "id": "2961010c",
   "metadata": {},
   "outputs": [],
   "source": [
    "files = [f\"part{i}.csv\" for i in range(count)]"
   ]
  },
  {
   "cell_type": "code",
   "execution_count": null,
   "id": "5cce6e42",
   "metadata": {},
   "outputs": [],
   "source": [
    "combined_df = pd.DataFrame()"
   ]
  },
  {
   "cell_type": "code",
   "execution_count": null,
   "id": "50d50fe7",
   "metadata": {},
   "outputs": [],
   "source": [
    "for file in files:\n",
    "    df = pd.read_csv(file)\n",
    "    combined_df = pd.concat([combined_df, df], ignore_index=True)\n",
    "    \n",
    "combined_df = combined_df.drop_duplicates()\n",
    "combined_df"
   ]
  },
  {
   "cell_type": "code",
   "execution_count": null,
   "id": "e583739a",
   "metadata": {},
   "outputs": [],
   "source": [
    "combined_df.to_csv('bsc_biswap.csv', index=False)"
   ]
  }
 ],
 "metadata": {
  "kernelspec": {
   "display_name": "Python 3 (ipykernel)",
   "language": "python",
   "name": "python3"
  },
  "language_info": {
   "codemirror_mode": {
    "name": "ipython",
    "version": 3
   },
   "file_extension": ".py",
   "mimetype": "text/x-python",
   "name": "python",
   "nbconvert_exporter": "python",
   "pygments_lexer": "ipython3",
   "version": "3.11.4"
  }
 },
 "nbformat": 4,
 "nbformat_minor": 5
}
