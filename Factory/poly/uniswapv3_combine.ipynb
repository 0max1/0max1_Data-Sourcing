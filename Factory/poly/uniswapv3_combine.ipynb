{
 "cells": [
  {
   "cell_type": "code",
   "execution_count": 1,
   "metadata": {
    "colab": {
     "base_uri": "https://localhost:8080/"
    },
    "executionInfo": {
     "elapsed": 8990,
     "status": "ok",
     "timestamp": 1697756052339,
     "user": {
      "displayName": "Wen Qi Xie",
      "userId": "06436371155355191509"
     },
     "user_tz": 240
    },
    "id": "LwV1TnVEmw3a",
    "outputId": "dced6d9e-4c62-4a70-c5ae-27a77ca9a4c9"
   },
   "outputs": [
    {
     "name": "stdout",
     "output_type": "stream",
     "text": [
      "Requirement already satisfied: web3 in /Users/jackiewzc/anaconda3/lib/python3.11/site-packages (6.13.0)\n",
      "Requirement already satisfied: aiohttp>=3.7.4.post0 in /Users/jackiewzc/anaconda3/lib/python3.11/site-packages (from web3) (3.8.3)\n",
      "Requirement already satisfied: eth-abi>=4.0.0 in /Users/jackiewzc/anaconda3/lib/python3.11/site-packages (from web3) (4.2.1)\n",
      "Requirement already satisfied: eth-account>=0.8.0 in /Users/jackiewzc/anaconda3/lib/python3.11/site-packages (from web3) (0.10.0)\n",
      "Requirement already satisfied: eth-hash[pycryptodome]>=0.5.1 in /Users/jackiewzc/anaconda3/lib/python3.11/site-packages (from web3) (0.5.2)\n",
      "Requirement already satisfied: eth-typing>=3.0.0 in /Users/jackiewzc/anaconda3/lib/python3.11/site-packages (from web3) (3.5.2)\n",
      "Requirement already satisfied: eth-utils>=2.1.0 in /Users/jackiewzc/anaconda3/lib/python3.11/site-packages (from web3) (2.3.1)\n",
      "Requirement already satisfied: hexbytes<0.4.0,>=0.1.0 in /Users/jackiewzc/anaconda3/lib/python3.11/site-packages (from web3) (0.3.1)\n",
      "Requirement already satisfied: jsonschema>=4.0.0 in /Users/jackiewzc/anaconda3/lib/python3.11/site-packages (from web3) (4.17.3)\n",
      "Requirement already satisfied: lru-dict<1.3.0,>=1.1.6 in /Users/jackiewzc/anaconda3/lib/python3.11/site-packages (from web3) (1.2.0)\n",
      "Requirement already satisfied: protobuf>=4.21.6 in /Users/jackiewzc/anaconda3/lib/python3.11/site-packages (from web3) (4.21.9)\n",
      "Requirement already satisfied: requests>=2.16.0 in /Users/jackiewzc/anaconda3/lib/python3.11/site-packages (from web3) (2.31.0)\n",
      "Requirement already satisfied: typing-extensions>=4.0.1 in /Users/jackiewzc/anaconda3/lib/python3.11/site-packages (from web3) (4.7.1)\n",
      "Requirement already satisfied: websockets>=10.0.0 in /Users/jackiewzc/anaconda3/lib/python3.11/site-packages (from web3) (12.0)\n",
      "Requirement already satisfied: pyunormalize>=15.0.0 in /Users/jackiewzc/anaconda3/lib/python3.11/site-packages (from web3) (15.1.0)\n",
      "Requirement already satisfied: attrs>=17.3.0 in /Users/jackiewzc/anaconda3/lib/python3.11/site-packages (from aiohttp>=3.7.4.post0->web3) (22.1.0)\n",
      "Requirement already satisfied: charset-normalizer<3.0,>=2.0 in /Users/jackiewzc/anaconda3/lib/python3.11/site-packages (from aiohttp>=3.7.4.post0->web3) (2.0.4)\n",
      "Requirement already satisfied: multidict<7.0,>=4.5 in /Users/jackiewzc/anaconda3/lib/python3.11/site-packages (from aiohttp>=3.7.4.post0->web3) (6.0.2)\n",
      "Requirement already satisfied: async-timeout<5.0,>=4.0.0a3 in /Users/jackiewzc/anaconda3/lib/python3.11/site-packages (from aiohttp>=3.7.4.post0->web3) (4.0.2)\n",
      "Requirement already satisfied: yarl<2.0,>=1.0 in /Users/jackiewzc/anaconda3/lib/python3.11/site-packages (from aiohttp>=3.7.4.post0->web3) (1.8.1)\n",
      "Requirement already satisfied: frozenlist>=1.1.1 in /Users/jackiewzc/anaconda3/lib/python3.11/site-packages (from aiohttp>=3.7.4.post0->web3) (1.3.3)\n",
      "Requirement already satisfied: aiosignal>=1.1.2 in /Users/jackiewzc/anaconda3/lib/python3.11/site-packages (from aiohttp>=3.7.4.post0->web3) (1.2.0)\n",
      "Requirement already satisfied: parsimonious<0.10.0,>=0.9.0 in /Users/jackiewzc/anaconda3/lib/python3.11/site-packages (from eth-abi>=4.0.0->web3) (0.9.0)\n",
      "Requirement already satisfied: bitarray>=2.4.0 in /Users/jackiewzc/anaconda3/lib/python3.11/site-packages (from eth-account>=0.8.0->web3) (2.9.1)\n",
      "Requirement already satisfied: eth-keyfile>=0.6.0 in /Users/jackiewzc/anaconda3/lib/python3.11/site-packages (from eth-account>=0.8.0->web3) (0.7.0)\n",
      "Requirement already satisfied: eth-keys>=0.4.0 in /Users/jackiewzc/anaconda3/lib/python3.11/site-packages (from eth-account>=0.8.0->web3) (0.4.0)\n",
      "Requirement already satisfied: eth-rlp>=0.3.0 in /Users/jackiewzc/anaconda3/lib/python3.11/site-packages (from eth-account>=0.8.0->web3) (1.0.0)\n",
      "Requirement already satisfied: rlp>=1.0.0 in /Users/jackiewzc/anaconda3/lib/python3.11/site-packages (from eth-account>=0.8.0->web3) (4.0.0)\n",
      "Requirement already satisfied: pycryptodome<4,>=3.6.6 in /Users/jackiewzc/anaconda3/lib/python3.11/site-packages (from eth-hash[pycryptodome]>=0.5.1->web3) (3.19.1)\n",
      "Requirement already satisfied: cytoolz>=0.10.1 in /Users/jackiewzc/anaconda3/lib/python3.11/site-packages (from eth-utils>=2.1.0->web3) (0.12.0)\n",
      "Requirement already satisfied: pyrsistent!=0.17.0,!=0.17.1,!=0.17.2,>=0.14.0 in /Users/jackiewzc/anaconda3/lib/python3.11/site-packages (from jsonschema>=4.0.0->web3) (0.18.0)\n",
      "Requirement already satisfied: idna<4,>=2.5 in /Users/jackiewzc/anaconda3/lib/python3.11/site-packages (from requests>=2.16.0->web3) (3.4)\n",
      "Requirement already satisfied: urllib3<3,>=1.21.1 in /Users/jackiewzc/anaconda3/lib/python3.11/site-packages (from requests>=2.16.0->web3) (1.26.16)\n",
      "Requirement already satisfied: certifi>=2017.4.17 in /Users/jackiewzc/anaconda3/lib/python3.11/site-packages (from requests>=2.16.0->web3) (2023.7.22)\n",
      "Requirement already satisfied: toolz>=0.8.0 in /Users/jackiewzc/anaconda3/lib/python3.11/site-packages (from cytoolz>=0.10.1->eth-utils>=2.1.0->web3) (0.12.0)\n",
      "Requirement already satisfied: regex>=2022.3.15 in /Users/jackiewzc/anaconda3/lib/python3.11/site-packages (from parsimonious<0.10.0,>=0.9.0->eth-abi>=4.0.0->web3) (2022.7.9)\n"
     ]
    }
   ],
   "source": [
    "!pip install web3"
   ]
  },
  {
   "cell_type": "code",
   "execution_count": 2,
   "metadata": {
    "executionInfo": {
     "elapsed": 3826,
     "status": "ok",
     "timestamp": 1697756056156,
     "user": {
      "displayName": "Wen Qi Xie",
      "userId": "06436371155355191509"
     },
     "user_tz": 240
    },
    "id": "Msl9_qQQnB38"
   },
   "outputs": [],
   "source": [
    "import time\n",
    "import json\n",
    "import requests\n",
    "import pandas as pd\n",
    "from tqdm import tqdm\n",
    "from web3 import Web3\n",
    "from web3.exceptions import ABIFunctionNotFound"
   ]
  },
  {
   "cell_type": "code",
   "execution_count": 3,
   "metadata": {
    "executionInfo": {
     "elapsed": 6,
     "status": "ok",
     "timestamp": 1697756056156,
     "user": {
      "displayName": "Wen Qi Xie",
      "userId": "06436371155355191509"
     },
     "user_tz": 240
    },
    "id": "X06XEnZVkNky"
   },
   "outputs": [],
   "source": [
    "POLY_API_KEY = \"TYVT9VBDKZUHWS35GYYJP3FK7MTS8XS8K9\"\n",
    "POLY_URL = \"https://api.polygonscan.com/api\"\n",
    "\n",
    "web3ProviderURL = \"https://rpc.ankr.com/polygon/b1bdd2819d3da7be4760d270af7ef985a74725cbe337c348bca633d096806c5a\"\n",
    "w3 = Web3(Web3.HTTPProvider(web3ProviderURL))\n",
    "\n",
    "getAccountBalance_url = \"https://rpc.ankr.com/multichain/79258ce7f7ee046decc3b5292a24eb4bf7c910d7e39b691384c7ce0cfb839a01/?ankr_getAccountBalance=\""
   ]
  },
  {
   "cell_type": "code",
   "execution_count": 4,
   "metadata": {
    "executionInfo": {
     "elapsed": 4,
     "status": "ok",
     "timestamp": 1697756056156,
     "user": {
      "displayName": "Wen Qi Xie",
      "userId": "06436371155355191509"
     },
     "user_tz": 240
    },
    "id": "qxoyxG6stpB5"
   },
   "outputs": [],
   "source": [
    "topics = [\n",
    "    \"0x783cca1c0412dd0d695e784568c96da2e9c22ff989357a2e8b1d9b2b4e6b7118\"\n",
    "]"
   ]
  },
  {
   "cell_type": "code",
   "execution_count": 5,
   "metadata": {
    "executionInfo": {
     "elapsed": 5,
     "status": "ok",
     "timestamp": 1697756056157,
     "user": {
      "displayName": "Wen Qi Xie",
      "userId": "06436371155355191509"
     },
     "user_tz": 240
    },
    "id": "X-WaMhY_kTAf"
   },
   "outputs": [],
   "source": [
    "factories = {\n",
    "    \"uniswap_v3\": {\n",
    "        \"address\" : [\"0x1f98431c8ad98523631ae4a59f267346ea31f984\"],\n",
    "        \"blockInterval\" : 1500000,\n",
    "        },\n",
    "}"
   ]
  },
  {
   "cell_type": "code",
   "execution_count": 6,
   "metadata": {
    "executionInfo": {
     "elapsed": 694,
     "status": "ok",
     "timestamp": 1697756056847,
     "user": {
      "displayName": "Wen Qi Xie",
      "userId": "06436371155355191509"
     },
     "user_tz": 240
    },
    "id": "WFksJNJQXh7D"
   },
   "outputs": [],
   "source": [
    "# Get the number of most recent block\n",
    "def get_latest_block():\n",
    "    params = {\n",
    "        \"module\": \"proxy\",\n",
    "        \"action\": \"eth_blockNumber\",\n",
    "        \"apikey\": POLY_API_KEY\n",
    "    }\n",
    "    response = requests.post(POLY_URL, params=params)\n",
    "    data = json.loads(response.text)\n",
    "    latest_block = int(data['result'], 16)\n",
    "    return latest_block"
   ]
  },
  {
   "cell_type": "code",
   "execution_count": 7,
   "metadata": {
    "executionInfo": {
     "elapsed": 4,
     "status": "ok",
     "timestamp": 1697756056847,
     "user": {
      "displayName": "Wen Qi Xie",
      "userId": "06436371155355191509"
     },
     "user_tz": 240
    },
    "id": "cs2rpanr7t6s"
   },
   "outputs": [],
   "source": [
    "def get_abi(address):\n",
    "    params = {\n",
    "        \"module\": \"contract\",\n",
    "        \"action\": \"getabi\",\n",
    "        \"address\": address,\n",
    "        \"apikey\": POLY_API_KEY\n",
    "    }\n",
    "    response = requests.post(POLY_URL, params=params)\n",
    "    data = json.loads(response.text)\n",
    "    result = data['result']\n",
    "    return result"
   ]
  },
  {
   "cell_type": "code",
   "execution_count": 8,
   "metadata": {
    "executionInfo": {
     "elapsed": 4,
     "status": "ok",
     "timestamp": 1697756056847,
     "user": {
      "displayName": "Wen Qi Xie",
      "userId": "06436371155355191509"
     },
     "user_tz": 240
    },
    "id": "Gh2_PTR6761g"
   },
   "outputs": [],
   "source": [
    "def get_contract(address):\n",
    "    abi = get_abi(address)\n",
    "    checksum_address = Web3.to_checksum_address(address)\n",
    "    contract = w3.eth.contract(address=checksum_address, abi=abi)\n",
    "    return contract"
   ]
  },
  {
   "cell_type": "code",
   "execution_count": 9,
   "metadata": {
    "executionInfo": {
     "elapsed": 4,
     "status": "ok",
     "timestamp": 1697756056847,
     "user": {
      "displayName": "Wen Qi Xie",
      "userId": "06436371155355191509"
     },
     "user_tz": 240
    },
    "id": "cUMfbLy6CPWH"
   },
   "outputs": [],
   "source": [
    "def get_fee_from_fee(contract, name):\n",
    "    deno_dict = {\n",
    "        \"uniswap_v3\" : 10**6,\n",
    "        \"sushiswap_v3\" : 10**6,\n",
    "        \"curve\" : 10**10,\n",
    "    }\n",
    "    if name in deno_dict:\n",
    "        fee = float(contract.functions.fee().call())\n",
    "        fee = fee / deno_dict[name]\n",
    "        return fee\n",
    "    return None\n",
    "\n",
    "\n",
    "def get_fee_from_swapFeeUnits(contract, name):\n",
    "    if name == \"kyberswap\":\n",
    "        swapFeeUnits = float(contract.functions.swapFeeUnits().call())\n",
    "        fee = swapFeeUnits / 100000\n",
    "        return fee\n",
    "    return None\n",
    "\n",
    "\n",
    "def get_fee_from_globalState(contract, name):\n",
    "    if name == \"quickswap_v3\":\n",
    "        globalState = contract.functions.globalState().call()\n",
    "        fee = globalState[2]\n",
    "        fee = fee / 1000\n",
    "        return fee\n",
    "    return None\n",
    "\n",
    "\n",
    "def get_fee(address, name):\n",
    "    try:\n",
    "        contract = get_contract(address)\n",
    "\n",
    "        fix_fee_dict = {\n",
    "            \"quickswap\": 3/1000,\n",
    "            \"sushiswap\" : 3/1000,\n",
    "            \"apeswap\" : 2/1000,\n",
    "            \"dfyn\" : 3/1000,\n",
    "            \"jetswap\" : 1/1000,\n",
    "        }\n",
    "\n",
    "        fee_fun = [\n",
    "            get_fee_from_fee,\n",
    "            get_fee_from_swapFeeUnits,\n",
    "            get_fee_from_globalState,\n",
    "        ]\n",
    "\n",
    "        if name in fix_fee_dict:\n",
    "            return fix_fee_dict[name]\n",
    "\n",
    "        for fun in fee_fun:\n",
    "            fee = fun(contract, name)\n",
    "            if fee:\n",
    "                return fee\n",
    "        return fee\n",
    "    except Exception:\n",
    "        return None"
   ]
  },
  {
   "cell_type": "code",
   "execution_count": 10,
   "metadata": {},
   "outputs": [],
   "source": [
    "def get_tvl(address):\n",
    "    token_type = ['NATIVE']\n",
    "    payload = {\n",
    "        \"jsonrpc\": \"2.0\",\n",
    "        \"method\": \"ankr_getAccountBalance\",\n",
    "        \"params\": {\n",
    "            \"blockchain\": [\"polygon\"],\n",
    "            \"walletAddress\": address,\n",
    "            \"nativeFirst\": True,\n",
    "            \"onlyWhitelisted\": True,\n",
    "            \"pageSize\": 2\n",
    "        },\n",
    "        \"id\": 1\n",
    "    }\n",
    "    headers = {\n",
    "        \"accept\": \"application/json\",\n",
    "        \"content-type\": \"application/json\"\n",
    "    }\n",
    "\n",
    "    response = requests.post(getAccountBalance_url, json=payload, headers=headers)\n",
    "    time.sleep(1)\n",
    "    if response.status_code == 200:\n",
    "        data = json.loads(response.text)\n",
    "        tvl = data['result']['totalBalanceUsd']\n",
    "        return tvl\n",
    "    return None"
   ]
  },
  {
   "cell_type": "code",
   "execution_count": 11,
   "metadata": {},
   "outputs": [],
   "source": [
    "def get_tokens(address):\n",
    "    try:\n",
    "        contract = get_contract(address)\n",
    "\n",
    "        token0 = contract.functions.token0().call()\n",
    "        token1 = contract.functions.token1().call()\n",
    "        \n",
    "        return token0, token1\n",
    "    except Exception:\n",
    "        return None, None"
   ]
  },
  {
   "cell_type": "code",
   "execution_count": 12,
   "metadata": {
    "executionInfo": {
     "elapsed": 4,
     "status": "ok",
     "timestamp": 1697756056847,
     "user": {
      "displayName": "Wen Qi Xie",
      "userId": "06436371155355191509"
     },
     "user_tz": 240
    },
    "id": "_9VXr1G9I6a4"
   },
   "outputs": [],
   "source": [
    "def get_pool_from_events(factory, start_block, end_block):\n",
    "    type1 = [\"quickswap\", \"sushiswap\", \"apeswap\", \"dfyn\", \"jetswap\", \"curve\"]\n",
    "    type2 = [\"quickswap_v3\", \"uniswap_v3\", \"sushiswap_v3\", \"kyberswap\"]\n",
    "\n",
    "    pool = []\n",
    "    name = factory\n",
    "    for factory_address in factories[factory][\"address\"]:\n",
    "        for topic in topics:\n",
    "            params = {\n",
    "                \"module\": \"logs\",\n",
    "                \"action\": \"getLogs\",\n",
    "                \"fromBlock\": start_block,\n",
    "                \"toBlock\": end_block,\n",
    "                \"address\" : factory_address,\n",
    "                \"topic0\": topic,\n",
    "                \"apikey\": POLY_API_KEY\n",
    "            }\n",
    "            response = requests.post(POLY_URL, params=params)\n",
    "            time.sleep(0.2)\n",
    "            data = json.loads(response.text)\n",
    "            logs = data['result']\n",
    "            for i in tqdm(range(len(logs))):\n",
    "                log = logs[i]\n",
    "                hex_string = log['data']\n",
    "                hex_string = hex_string[2:]\n",
    "                if factory in type1:\n",
    "                    address = '0x' + hex_string[24:64]\n",
    "                elif factory in type2:\n",
    "                    address = '0x' + hex_string[-40:].lower()\n",
    "                tvl = get_tvl(address)\n",
    "                fee = get_fee(address, name)\n",
    "                token0, token1 = get_tokens(address)\n",
    "                row = {\n",
    "                    \"name\" : name,\n",
    "                    \"factory\" : factory_address,\n",
    "                    \"tvl\" : tvl,\n",
    "                    \"fee\" : fee,\n",
    "                    \"contract\" : address,\n",
    "                    \"token0\" : token0,\n",
    "                    \"token1\" : token1,\n",
    "                }\n",
    "                pool.append(row)\n",
    "    return pool"
   ]
  },
  {
   "cell_type": "code",
   "execution_count": 13,
   "metadata": {},
   "outputs": [],
   "source": [
    "def to_file(pool, count):\n",
    "    pool_df = pd.DataFrame(pool)\n",
    "    pool_df = pool_df.dropna(axis=0).reset_index(drop=True)\n",
    "    \n",
    "    file_name = f\"part{count}.csv\"\n",
    "    pool_df.to_csv(file_name, index=False)\n",
    "    return file_name"
   ]
  },
  {
   "cell_type": "code",
   "execution_count": 14,
   "metadata": {},
   "outputs": [
    {
     "data": {
      "text/plain": [
       "53017839"
      ]
     },
     "execution_count": 14,
     "metadata": {},
     "output_type": "execute_result"
    }
   ],
   "source": [
    "latest_block = get_latest_block()\n",
    "latest_block"
   ]
  },
  {
   "cell_type": "code",
   "execution_count": 15,
   "metadata": {
    "scrolled": true
   },
   "outputs": [
    {
     "name": "stderr",
     "output_type": "stream",
     "text": [
      "0it [00:00, ?it/s]\n",
      "0it [00:00, ?it/s]\n",
      "0it [00:00, ?it/s]\n",
      "0it [00:00, ?it/s]\n",
      "0it [00:00, ?it/s]\n",
      "0it [00:00, ?it/s]\n",
      "0it [00:00, ?it/s]\n",
      "0it [00:00, ?it/s]\n",
      "0it [00:00, ?it/s]\n",
      "0it [00:00, ?it/s]\n",
      "0it [00:00, ?it/s]\n",
      "0it [00:00, ?it/s]\n",
      "0it [00:00, ?it/s]\n",
      "0it [00:00, ?it/s]\n",
      "0it [00:00, ?it/s]\n",
      "100%|███████████████████████████████████████| 964/964 [1:08:00<00:00,  4.23s/it]\n",
      "100%|█████████████████████████████████████████| 739/739 [53:41<00:00,  4.36s/it]\n",
      "100%|█████████████████████████████████████████| 597/597 [45:19<00:00,  4.56s/it]\n",
      "100%|█████████████████████████████████████████| 653/653 [48:40<00:00,  4.47s/it]\n",
      "100%|█████████████████████████████████████████| 583/583 [42:14<00:00,  4.35s/it]\n",
      "100%|█████████████████████████████████████████| 562/562 [39:42<00:00,  4.24s/it]\n",
      "100%|█████████████████████████████████████████| 486/486 [34:54<00:00,  4.31s/it]\n",
      "100%|█████████████████████████████████████████| 586/586 [41:58<00:00,  4.30s/it]\n",
      "100%|█████████████████████████████████████████| 784/784 [55:57<00:00,  4.28s/it]\n",
      "100%|█████████████████████████████████████████| 757/757 [53:41<00:00,  4.26s/it]\n",
      "100%|█████████████████████████████████████████| 701/701 [49:07<00:00,  4.20s/it]\n",
      "100%|█████████████████████████████████████████| 581/581 [40:08<00:00,  4.15s/it]\n",
      "100%|█████████████████████████████████████████| 616/616 [42:45<00:00,  4.17s/it]\n",
      "100%|█████████████████████████████████████| 1000/1000 [1:09:24<00:00,  4.16s/it]\n",
      "100%|███████████████████████████████████████| 905/905 [1:02:52<00:00,  4.17s/it]\n",
      "100%|███████████████████████████████████████| 949/949 [1:06:21<00:00,  4.20s/it]\n",
      "100%|█████████████████████████████████████████| 794/794 [57:07<00:00,  4.32s/it]\n",
      "100%|█████████████████████████████████████████| 760/760 [53:39<00:00,  4.24s/it]\n",
      "100%|█████████████████████████████████████| 1000/1000 [1:11:37<00:00,  4.30s/it]\n",
      "100%|█████████████████████████████████████| 1000/1000 [1:14:15<00:00,  4.46s/it]\n",
      "100%|█████████████████████████████████████████| 517/517 [35:52<00:00,  4.16s/it]\n"
     ]
    }
   ],
   "source": [
    "files = []\n",
    "for factory in factories.keys():\n",
    "    interval = factories[factory][\"blockInterval\"]\n",
    "    for count in range(1000):\n",
    "        start = count * interval\n",
    "        end = start + interval\n",
    "        if end > latest_block:\n",
    "            end = latest_block\n",
    "        pool = get_pool_from_events(factory, start, end)\n",
    "        if len(pool) > 0:\n",
    "            file_name = to_file(pool, count)\n",
    "            files.append(file_name)\n",
    "        if end >= latest_block:\n",
    "            break"
   ]
  },
  {
   "cell_type": "code",
   "execution_count": 16,
   "metadata": {},
   "outputs": [
    {
     "data": {
      "text/html": [
       "<div>\n",
       "<style scoped>\n",
       "    .dataframe tbody tr th:only-of-type {\n",
       "        vertical-align: middle;\n",
       "    }\n",
       "\n",
       "    .dataframe tbody tr th {\n",
       "        vertical-align: top;\n",
       "    }\n",
       "\n",
       "    .dataframe thead th {\n",
       "        text-align: right;\n",
       "    }\n",
       "</style>\n",
       "<table border=\"1\" class=\"dataframe\">\n",
       "  <thead>\n",
       "    <tr style=\"text-align: right;\">\n",
       "      <th></th>\n",
       "      <th>name</th>\n",
       "      <th>factory</th>\n",
       "      <th>tvl</th>\n",
       "      <th>fee</th>\n",
       "      <th>contract</th>\n",
       "      <th>token_1</th>\n",
       "      <th>token_2</th>\n",
       "      <th>token0</th>\n",
       "      <th>token1</th>\n",
       "    </tr>\n",
       "  </thead>\n",
       "  <tbody>\n",
       "    <tr>\n",
       "      <th>0</th>\n",
       "      <td>quickswap</td>\n",
       "      <td>0x5757371414417b8c6caad45baef941abc7d3ab32</td>\n",
       "      <td>425.896468</td>\n",
       "      <td>0.003</td>\n",
       "      <td>0x5d4692de860ad10773467ddb4cc69727dd5171f0</td>\n",
       "      <td>0x0d500b1d8e8ef31e21c99d1db9a6444d3adf1270</td>\n",
       "      <td>0xdb13a5e277dfb18cf9b8d652761e84e90594e681</td>\n",
       "      <td>NaN</td>\n",
       "      <td>NaN</td>\n",
       "    </tr>\n",
       "    <tr>\n",
       "      <th>1</th>\n",
       "      <td>quickswap</td>\n",
       "      <td>0x5757371414417b8c6caad45baef941abc7d3ab32</td>\n",
       "      <td>0.000214</td>\n",
       "      <td>0.003</td>\n",
       "      <td>0x31022662f0b5821e90ad01613ca124d7c0ab0335</td>\n",
       "      <td>0x0d500b1d8e8ef31e21c99d1db9a6444d3adf1270</td>\n",
       "      <td>0xaa4765b2734cedbc9d5dd46f8ff6ddb16a28bfac</td>\n",
       "      <td>NaN</td>\n",
       "      <td>NaN</td>\n",
       "    </tr>\n",
       "    <tr>\n",
       "      <th>2</th>\n",
       "      <td>quickswap</td>\n",
       "      <td>0x5757371414417b8c6caad45baef941abc7d3ab32</td>\n",
       "      <td>0.000001</td>\n",
       "      <td>0.003</td>\n",
       "      <td>0xb022f2cc432cf754feb41f53b06ef8e9436066ca</td>\n",
       "      <td>0x1c2806fa5e22a6bd1b3b98a3a5c34ebdcdf02943</td>\n",
       "      <td>0x2791bca1f2de4661ed88a30c99a7a9449aa84174</td>\n",
       "      <td>NaN</td>\n",
       "      <td>NaN</td>\n",
       "    </tr>\n",
       "    <tr>\n",
       "      <th>3</th>\n",
       "      <td>quickswap</td>\n",
       "      <td>0x5757371414417b8c6caad45baef941abc7d3ab32</td>\n",
       "      <td>0.035298</td>\n",
       "      <td>0.003</td>\n",
       "      <td>0x65246daa385cebe1e8bfe381614f8fde595269e4</td>\n",
       "      <td>0x7ceb23fd6bc0add59e62ac25578270cff1b9f619</td>\n",
       "      <td>0x8cb96e95c714e0996e6d299f617f518d965e352e</td>\n",
       "      <td>NaN</td>\n",
       "      <td>NaN</td>\n",
       "    </tr>\n",
       "    <tr>\n",
       "      <th>4</th>\n",
       "      <td>quickswap</td>\n",
       "      <td>0x5757371414417b8c6caad45baef941abc7d3ab32</td>\n",
       "      <td>0.000000</td>\n",
       "      <td>0.003</td>\n",
       "      <td>0x83f17fef9512f3cbee745f9ca01f9c928a360d02</td>\n",
       "      <td>0x28b7c90d2cfa1e54bbacd01c030e18a74aeeccf0</td>\n",
       "      <td>0x878534a571ad0f2d4f38bc8a8b2cb393f472580d</td>\n",
       "      <td>NaN</td>\n",
       "      <td>NaN</td>\n",
       "    </tr>\n",
       "    <tr>\n",
       "      <th>...</th>\n",
       "      <td>...</td>\n",
       "      <td>...</td>\n",
       "      <td>...</td>\n",
       "      <td>...</td>\n",
       "      <td>...</td>\n",
       "      <td>...</td>\n",
       "      <td>...</td>\n",
       "      <td>...</td>\n",
       "      <td>...</td>\n",
       "    </tr>\n",
       "    <tr>\n",
       "      <th>14946</th>\n",
       "      <td>uniswap_v3</td>\n",
       "      <td>0x1f98431c8ad98523631ae4a59f267346ea31f984</td>\n",
       "      <td>96.350901</td>\n",
       "      <td>0.010</td>\n",
       "      <td>0x21215246573e94d992e222506f82e70d5334630b</td>\n",
       "      <td>NaN</td>\n",
       "      <td>NaN</td>\n",
       "      <td>0x50B728D8D964fd00C2d0AAD81718b71311feF68a</td>\n",
       "      <td>0x7ceB23fD6bC0adD59E62ac25578270cFf1b9f619</td>\n",
       "    </tr>\n",
       "    <tr>\n",
       "      <th>14947</th>\n",
       "      <td>uniswap_v3</td>\n",
       "      <td>0x1f98431c8ad98523631ae4a59f267346ea31f984</td>\n",
       "      <td>0.434268</td>\n",
       "      <td>0.010</td>\n",
       "      <td>0xc575cbbb8d3a2487d206a730ff33298e65be781b</td>\n",
       "      <td>NaN</td>\n",
       "      <td>NaN</td>\n",
       "      <td>0x0d500B1d8E8eF31E21C99d1Db9A6444d3ADf1270</td>\n",
       "      <td>0x6be5Ae6a7Bad2B07F21FB3Be7F3E48c6dDa96312</td>\n",
       "    </tr>\n",
       "    <tr>\n",
       "      <th>14948</th>\n",
       "      <td>uniswap_v3</td>\n",
       "      <td>0x1f98431c8ad98523631ae4a59f267346ea31f984</td>\n",
       "      <td>19520.976923</td>\n",
       "      <td>0.010</td>\n",
       "      <td>0xb25aa3afabdf80664c13819ccb70f77343e2867b</td>\n",
       "      <td>NaN</td>\n",
       "      <td>NaN</td>\n",
       "      <td>0x8f3Cf7ad23Cd3CaDbD9735AFf958023239c6A063</td>\n",
       "      <td>0xc59132FBdF8dE8fbE510F568a5D831C991B4fC38</td>\n",
       "    </tr>\n",
       "    <tr>\n",
       "      <th>14949</th>\n",
       "      <td>uniswap_v3</td>\n",
       "      <td>0x1f98431c8ad98523631ae4a59f267346ea31f984</td>\n",
       "      <td>26078.998262</td>\n",
       "      <td>0.010</td>\n",
       "      <td>0x2c44ce8cfc35cb8f6596f4c3e8521294a844e7aa</td>\n",
       "      <td>NaN</td>\n",
       "      <td>NaN</td>\n",
       "      <td>0xc2132D05D31c914a87C6611C10748AEb04B58e8F</td>\n",
       "      <td>0xc59132FBdF8dE8fbE510F568a5D831C991B4fC38</td>\n",
       "    </tr>\n",
       "    <tr>\n",
       "      <th>14950</th>\n",
       "      <td>uniswap_v3</td>\n",
       "      <td>0x1f98431c8ad98523631ae4a59f267346ea31f984</td>\n",
       "      <td>0.000005</td>\n",
       "      <td>0.010</td>\n",
       "      <td>0x7ad3ce48d15cebd5d3d244399a706bdc68356c4c</td>\n",
       "      <td>NaN</td>\n",
       "      <td>NaN</td>\n",
       "      <td>0x66F364F908c662772f5b7EcD58488F372C584833</td>\n",
       "      <td>0xc2132D05D31c914a87C6611C10748AEb04B58e8F</td>\n",
       "    </tr>\n",
       "  </tbody>\n",
       "</table>\n",
       "<p>14951 rows × 9 columns</p>\n",
       "</div>"
      ],
      "text/plain": [
       "             name                                     factory           tvl  \\\n",
       "0       quickswap  0x5757371414417b8c6caad45baef941abc7d3ab32    425.896468   \n",
       "1       quickswap  0x5757371414417b8c6caad45baef941abc7d3ab32      0.000214   \n",
       "2       quickswap  0x5757371414417b8c6caad45baef941abc7d3ab32      0.000001   \n",
       "3       quickswap  0x5757371414417b8c6caad45baef941abc7d3ab32      0.035298   \n",
       "4       quickswap  0x5757371414417b8c6caad45baef941abc7d3ab32      0.000000   \n",
       "...           ...                                         ...           ...   \n",
       "14946  uniswap_v3  0x1f98431c8ad98523631ae4a59f267346ea31f984     96.350901   \n",
       "14947  uniswap_v3  0x1f98431c8ad98523631ae4a59f267346ea31f984      0.434268   \n",
       "14948  uniswap_v3  0x1f98431c8ad98523631ae4a59f267346ea31f984  19520.976923   \n",
       "14949  uniswap_v3  0x1f98431c8ad98523631ae4a59f267346ea31f984  26078.998262   \n",
       "14950  uniswap_v3  0x1f98431c8ad98523631ae4a59f267346ea31f984      0.000005   \n",
       "\n",
       "         fee                                    contract  \\\n",
       "0      0.003  0x5d4692de860ad10773467ddb4cc69727dd5171f0   \n",
       "1      0.003  0x31022662f0b5821e90ad01613ca124d7c0ab0335   \n",
       "2      0.003  0xb022f2cc432cf754feb41f53b06ef8e9436066ca   \n",
       "3      0.003  0x65246daa385cebe1e8bfe381614f8fde595269e4   \n",
       "4      0.003  0x83f17fef9512f3cbee745f9ca01f9c928a360d02   \n",
       "...      ...                                         ...   \n",
       "14946  0.010  0x21215246573e94d992e222506f82e70d5334630b   \n",
       "14947  0.010  0xc575cbbb8d3a2487d206a730ff33298e65be781b   \n",
       "14948  0.010  0xb25aa3afabdf80664c13819ccb70f77343e2867b   \n",
       "14949  0.010  0x2c44ce8cfc35cb8f6596f4c3e8521294a844e7aa   \n",
       "14950  0.010  0x7ad3ce48d15cebd5d3d244399a706bdc68356c4c   \n",
       "\n",
       "                                          token_1  \\\n",
       "0      0x0d500b1d8e8ef31e21c99d1db9a6444d3adf1270   \n",
       "1      0x0d500b1d8e8ef31e21c99d1db9a6444d3adf1270   \n",
       "2      0x1c2806fa5e22a6bd1b3b98a3a5c34ebdcdf02943   \n",
       "3      0x7ceb23fd6bc0add59e62ac25578270cff1b9f619   \n",
       "4      0x28b7c90d2cfa1e54bbacd01c030e18a74aeeccf0   \n",
       "...                                           ...   \n",
       "14946                                         NaN   \n",
       "14947                                         NaN   \n",
       "14948                                         NaN   \n",
       "14949                                         NaN   \n",
       "14950                                         NaN   \n",
       "\n",
       "                                          token_2  \\\n",
       "0      0xdb13a5e277dfb18cf9b8d652761e84e90594e681   \n",
       "1      0xaa4765b2734cedbc9d5dd46f8ff6ddb16a28bfac   \n",
       "2      0x2791bca1f2de4661ed88a30c99a7a9449aa84174   \n",
       "3      0x8cb96e95c714e0996e6d299f617f518d965e352e   \n",
       "4      0x878534a571ad0f2d4f38bc8a8b2cb393f472580d   \n",
       "...                                           ...   \n",
       "14946                                         NaN   \n",
       "14947                                         NaN   \n",
       "14948                                         NaN   \n",
       "14949                                         NaN   \n",
       "14950                                         NaN   \n",
       "\n",
       "                                           token0  \\\n",
       "0                                             NaN   \n",
       "1                                             NaN   \n",
       "2                                             NaN   \n",
       "3                                             NaN   \n",
       "4                                             NaN   \n",
       "...                                           ...   \n",
       "14946  0x50B728D8D964fd00C2d0AAD81718b71311feF68a   \n",
       "14947  0x0d500B1d8E8eF31E21C99d1Db9A6444d3ADf1270   \n",
       "14948  0x8f3Cf7ad23Cd3CaDbD9735AFf958023239c6A063   \n",
       "14949  0xc2132D05D31c914a87C6611C10748AEb04B58e8F   \n",
       "14950  0x66F364F908c662772f5b7EcD58488F372C584833   \n",
       "\n",
       "                                           token1  \n",
       "0                                             NaN  \n",
       "1                                             NaN  \n",
       "2                                             NaN  \n",
       "3                                             NaN  \n",
       "4                                             NaN  \n",
       "...                                           ...  \n",
       "14946  0x7ceB23fD6bC0adD59E62ac25578270cFf1b9f619  \n",
       "14947  0x6be5Ae6a7Bad2B07F21FB3Be7F3E48c6dDa96312  \n",
       "14948  0xc59132FBdF8dE8fbE510F568a5D831C991B4fC38  \n",
       "14949  0xc59132FBdF8dE8fbE510F568a5D831C991B4fC38  \n",
       "14950  0xc2132D05D31c914a87C6611C10748AEb04B58e8F  \n",
       "\n",
       "[14951 rows x 9 columns]"
      ]
     },
     "execution_count": 16,
     "metadata": {},
     "output_type": "execute_result"
    }
   ],
   "source": [
    "combined_df = pd.DataFrame()\n",
    "for file in files:\n",
    "    df = pd.read_csv(file)\n",
    "    combined_df = pd.concat([combined_df, df], ignore_index=True)\n",
    "    \n",
    "combined_df = combined_df.drop_duplicates()\n",
    "combined_df"
   ]
  },
  {
   "cell_type": "code",
   "execution_count": 17,
   "metadata": {},
   "outputs": [],
   "source": [
    "combined_df.to_csv('uniswapv3_combined.csv', index=False)"
   ]
  }
 ],
 "metadata": {
  "colab": {
   "authorship_tag": "ABX9TyNunwZ/9RawfvAbEBKFwxaJ",
   "provenance": []
  },
  "kernelspec": {
   "display_name": "Python 3 (ipykernel)",
   "language": "python",
   "name": "python3"
  },
  "language_info": {
   "codemirror_mode": {
    "name": "ipython",
    "version": 3
   },
   "file_extension": ".py",
   "mimetype": "text/x-python",
   "name": "python",
   "nbconvert_exporter": "python",
   "pygments_lexer": "ipython3",
   "version": "3.11.4"
  }
 },
 "nbformat": 4,
 "nbformat_minor": 1
}
